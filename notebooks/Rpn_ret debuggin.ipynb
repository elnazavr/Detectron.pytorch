{
 "cells": [
  {
   "cell_type": "code",
   "execution_count": 1,
   "metadata": {},
   "outputs": [],
   "source": [
    "import pickle\n"
   ]
  },
  {
   "cell_type": "code",
   "execution_count": 2,
   "metadata": {},
   "outputs": [],
   "source": [
    "with open(\"../rpn_ret.pkl\", \"rb\") as f:\n",
    "    rpn = pickle.load(f)"
   ]
  },
  {
   "cell_type": "code",
   "execution_count": 4,
   "metadata": {},
   "outputs": [
    {
     "data": {
      "text/plain": [
       "dict_keys(['rpn_cls_logits_fpn2', 'rpn_bbox_pred_fpn2', 'rpn_rois_fpn2', 'rpn_rois_prob_fpn2', 'rpn_cls_logits_fpn3', 'rpn_bbox_pred_fpn3', 'rpn_rois_fpn3', 'rpn_rois_prob_fpn3', 'rpn_cls_logits_fpn4', 'rpn_bbox_pred_fpn4', 'rpn_rois_fpn4', 'rpn_rois_prob_fpn4', 'rpn_cls_logits_fpn5', 'rpn_bbox_pred_fpn5', 'rpn_rois_fpn5', 'rpn_rois_prob_fpn5', 'rpn_cls_logits_fpn6', 'rpn_bbox_pred_fpn6', 'rpn_rois_fpn6', 'rpn_rois_prob_fpn6', 'rois', 'labels_int32', 'bbox_targets', 'bbox_inside_weights', 'bbox_outside_weights', 'objective_scores', 'rois_fpn2', 'rois_fpn3', 'rois_fpn4', 'rois_fpn5', 'rois_idx_restore_int32'])"
      ]
     },
     "execution_count": 4,
     "metadata": {},
     "output_type": "execute_result"
    }
   ],
   "source": [
    "rpn.keys()"
   ]
  },
  {
   "cell_type": "code",
   "execution_count": 7,
   "metadata": {},
   "outputs": [],
   "source": [
    "ex = rpn[\"rois_fpn2\"][0]"
   ]
  },
  {
   "cell_type": "code",
   "execution_count": 17,
   "metadata": {},
   "outputs": [
    {
     "data": {
      "text/plain": [
       "True"
      ]
     },
     "execution_count": 17,
     "metadata": {},
     "output_type": "execute_result"
    }
   ],
   "source": [
    "rpn[\"rois\"][511] in  rpn[\"rois_fpn2\"]"
   ]
  },
  {
   "cell_type": "code",
   "execution_count": 10,
   "metadata": {},
   "outputs": [],
   "source": [
    "idx = rpn['rois_idx_restore_int32']"
   ]
  },
  {
   "cell_type": "code",
   "execution_count": 16,
   "metadata": {},
   "outputs": [],
   "source": [
    "N2 = len(rpn[\"rois_fpn2\"])"
   ]
  },
  {
   "cell_type": "code",
   "execution_count": 20,
   "metadata": {},
   "outputs": [],
   "source": [
    "count = 0\n",
    "for x in rpn[\"rois\"][:N2]:\n",
    "    if x in rpn[\"rois_fpn2\"]:\n",
    "        count+=1"
   ]
  },
  {
   "cell_type": "code",
   "execution_count": 28,
   "metadata": {},
   "outputs": [],
   "source": [
    "count = 0\n",
    "N3 = N2 + len(rpn[\"rois_fpn3\"])\n",
    "for x in rpn[\"rois\"][N2:N3]:\n",
    "    if x in rpn[\"rois_fpn3\"]:\n",
    "        count+=1"
   ]
  },
  {
   "cell_type": "code",
   "execution_count": 29,
   "metadata": {},
   "outputs": [
    {
     "data": {
      "text/plain": [
       "(75, 75)"
      ]
     },
     "execution_count": 29,
     "metadata": {},
     "output_type": "execute_result"
    }
   ],
   "source": [
    "len(rpn[\"rois_fpn3\"]), count"
   ]
  },
  {
   "cell_type": "code",
   "execution_count": 32,
   "metadata": {},
   "outputs": [],
   "source": [
    "count = 0\n",
    "N4 = N3 + len(rpn[\"rois_fpn4\"])\n",
    "\n",
    "for x in rpn[\"rois\"][N3:N4]:\n",
    "    if x in rpn[\"rois_fpn4\"]:\n",
    "        count+=1"
   ]
  },
  {
   "cell_type": "code",
   "execution_count": 33,
   "metadata": {},
   "outputs": [
    {
     "data": {
      "text/plain": [
       "(3, 3)"
      ]
     },
     "execution_count": 33,
     "metadata": {},
     "output_type": "execute_result"
    }
   ],
   "source": [
    "len(rpn[\"rois_fpn4\"]), count"
   ]
  },
  {
   "cell_type": "code",
   "execution_count": null,
   "metadata": {},
   "outputs": [],
   "source": []
  }
 ],
 "metadata": {
  "kernelspec": {
   "display_name": "Python 3",
   "language": "python",
   "name": "python3"
  },
  "language_info": {
   "codemirror_mode": {
    "name": "ipython",
    "version": 3
   },
   "file_extension": ".py",
   "mimetype": "text/x-python",
   "name": "python",
   "nbconvert_exporter": "python",
   "pygments_lexer": "ipython3",
   "version": "3.6.8"
  }
 },
 "nbformat": 4,
 "nbformat_minor": 2
}
