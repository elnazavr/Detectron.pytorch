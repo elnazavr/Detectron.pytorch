{
 "cells": [
  {
   "cell_type": "code",
   "execution_count": 6,
   "metadata": {},
   "outputs": [],
   "source": [
    "import sys\n",
    "sys.path.append(\"/home.nfs/babayeln/doc/lib\")\n",
    "sys.path.append(\"/home.nfs/babayeln/doc/lib/datasets\")\n",
    "from lib.datasets.json_dataset import JsonDataset\n",
    "from pycocotools.coco import COCO\n"
   ]
  },
  {
   "cell_type": "code",
   "execution_count": 7,
   "metadata": {},
   "outputs": [],
   "source": [
    "#! export PYTHONPATH=\"${PYTHONPATH}:/home.nfs/babayeln/doc/lib/utils/\"\n",
    "datasets_name = ['coco2017_part0_debug', 'coco2017_part1_debug', 'coco2017_part2_debug']"
   ]
  },
  {
   "cell_type": "code",
   "execution_count": null,
   "metadata": {},
   "outputs": [],
   "source": []
  },
  {
   "cell_type": "code",
   "execution_count": 8,
   "metadata": {},
   "outputs": [],
   "source": [
    "def define_all_classes(datasets_name):\n",
    "    continious_id_to_name, names_to_continioues_id_to, coco_id_to_continious_id_to, name_to_coco_id = {}, {}, {}, {}\n",
    "    for dataset_name in datasets_name:\n",
    "        ds = COCO(dataset_name)\n",
    "        cats_dict = ds.cats\n",
    "        for key,value in cats_dict.items():\n",
    "            if value[\"name\"] not in continious_id_to_name.values():\n",
    "                N = len(continious_id_to_name) + 1\n",
    "                continious_id_to_name[N] = value[\"name\"]\n",
    "                names_to_continioues_id_to[value[\"name\"]] = N\n",
    "                coco_id_to_continious_id_to[value[\"id\"]] = N\n",
    "                name_to_coco_id[value[\"name\"]] = value[\"id\"]\n",
    "    return {\"continious_id_to_name\": continious_id_to_name,\n",
    "            \"names_to_continioues_id_to\": names_to_continioues_id_to,\n",
    "            \"coco_id_to_continious_id_to\": coco_id_to_continious_id_to,\n",
    "            \"name_to_coco_id\": name_to_coco_id}\n",
    "\n",
    "def change_ids(dict_combined):\n",
    "    continious_id_to_name  = dict_combined[\"continious_id_to_name\"]\n",
    "    names_to_continioues_id_to = dict_combined[\"names_to_continioues_id_to\"]\n",
    "    coco_id_to_continious_id_to = dict_combined[\"coco_id_to_continious_id_to\"]\n",
    "    name_to_coco_id = dict_combined[\"name_to_coco_id\"]\n",
    "\n",
    "    json_category_id_to_contiguous_id, contiguous_category_id_to_json_id = {}, {}\n",
    "    classes = [0] * (len(continious_id_to_name)+1)\n",
    "    classes[0] = '__background__'\n",
    "    category_to_id_map = {}\n",
    "    for name, continious_ds_id in names_to_continioues_id_to.items():\n",
    "        coco_cat_id = name_to_coco_id[name]\n",
    "        classes[continious_ds_id] = name\n",
    "        category_to_id_map[name] = coco_cat_id\n",
    "        json_category_id_to_contiguous_id[coco_cat_id] = continious_ds_id\n",
    "        contiguous_category_id_to_json_id[continious_ds_id] = coco_cat_id\n",
    "    print(len(classes), len(category_to_id_map), len(json_category_id_to_contiguous_id), len(contiguous_category_id_to_json_id))\n",
    "    return classes, category_to_id_map, json_category_id_to_contiguous_id, contiguous_category_id_to_json_id"
   ]
  },
  {
   "cell_type": "code",
   "execution_count": 9,
   "metadata": {},
   "outputs": [
    {
     "name": "stdout",
     "output_type": "stream",
     "text": [
      "loading annotations into memory...\n",
      "Done (t=0.01s)\n",
      "creating index...\n",
      "index created!\n",
      "loading annotations into memory...\n",
      "Done (t=0.01s)\n",
      "creating index...\n",
      "index created!\n",
      "loading annotations into memory...\n",
      "Done (t=0.03s)\n",
      "creating index...\n",
      "index created!\n"
     ]
    }
   ],
   "source": [
    "#val = define_all_classes([\"data/coco/parts/annotations/0_val.json\", \"data/coco/parts/annotations/1_val.json\", \"data/coco/parts/annotations/2_val.json\"])\n",
    "train = define_all_classes([\"data/coco/parts/annotations/0_train_debug.json\", \n",
    "                            \"data/coco/parts/annotations/1_train_debug.json\", \n",
    "                            \"data/coco/parts/annotations/2_train_debug.json\"])"
   ]
  },
  {
   "cell_type": "code",
   "execution_count": 11,
   "metadata": {},
   "outputs": [
    {
     "name": "stdout",
     "output_type": "stream",
     "text": [
      "loading annotations into memory...\n",
      "Done (t=0.02s)\n",
      "creating index...\n",
      "index created!\n",
      "81 80 80 80\n"
     ]
    }
   ],
   "source": [
    "ds = JsonDataset(\"coco2017_part1_debug\", 0)\n",
    "classes, category_to_id_map, json_category_id_to_contiguous_id, contiguous_category_id_to_json_id = change_ids(dict_combined=train)\n"
   ]
  },
  {
   "cell_type": "code",
   "execution_count": 19,
   "metadata": {},
   "outputs": [
    {
     "data": {
      "text/plain": [
       "{'motorcycle': 4,\n",
       " 'airplane': 5,\n",
       " 'bus': 6,\n",
       " 'train': 7,\n",
       " 'boat': 9,\n",
       " 'traffic light': 10,\n",
       " 'bench': 15,\n",
       " 'horse': 19,\n",
       " 'elephant': 22,\n",
       " 'bear': 23,\n",
       " 'umbrella': 28,\n",
       " 'frisbee': 34,\n",
       " 'skis': 35,\n",
       " 'baseball bat': 39,\n",
       " 'baseball glove': 40,\n",
       " 'bottle': 44,\n",
       " 'wine glass': 46,\n",
       " 'fork': 48,\n",
       " 'knife': 49,\n",
       " 'spoon': 50,\n",
       " 'banana': 52,\n",
       " 'pizza': 59,\n",
       " 'donut': 60,\n",
       " 'cake': 61,\n",
       " 'chair': 62,\n",
       " 'couch': 63,\n",
       " 'potted plant': 64,\n",
       " 'bed': 65,\n",
       " 'dining table': 67,\n",
       " 'laptop': 73,\n",
       " 'mouse': 74,\n",
       " 'keyboard': 76,\n",
       " 'cell phone': 77,\n",
       " 'microwave': 78,\n",
       " 'toaster': 80,\n",
       " 'sink': 81,\n",
       " 'clock': 85,\n",
       " 'teddy bear': 88,\n",
       " 'toothbrush': 90,\n",
       " 'bicycle': 2,\n",
       " 'car': 3,\n",
       " 'truck': 8,\n",
       " 'fire hydrant': 11,\n",
       " 'stop sign': 13,\n",
       " 'parking meter': 14,\n",
       " 'bird': 16,\n",
       " 'cat': 17,\n",
       " 'dog': 18,\n",
       " 'sheep': 20,\n",
       " 'cow': 21,\n",
       " 'zebra': 24,\n",
       " 'giraffe': 25,\n",
       " 'backpack': 27,\n",
       " 'handbag': 31,\n",
       " 'tie': 32,\n",
       " 'suitcase': 33,\n",
       " 'snowboard': 36,\n",
       " 'sports ball': 37,\n",
       " 'kite': 38,\n",
       " 'skateboard': 41,\n",
       " 'surfboard': 42,\n",
       " 'tennis racket': 43,\n",
       " 'cup': 47,\n",
       " 'bowl': 51,\n",
       " 'apple': 53,\n",
       " 'sandwich': 54,\n",
       " 'orange': 55,\n",
       " 'broccoli': 56,\n",
       " 'carrot': 57,\n",
       " 'hot dog': 58,\n",
       " 'toilet': 70,\n",
       " 'tv': 72,\n",
       " 'remote': 75,\n",
       " 'oven': 79,\n",
       " 'refrigerator': 82,\n",
       " 'book': 84,\n",
       " 'vase': 86,\n",
       " 'scissors': 87,\n",
       " 'hair drier': 89,\n",
       " 'person': 1}"
      ]
     },
     "execution_count": 19,
     "metadata": {},
     "output_type": "execute_result"
    }
   ],
   "source": [
    "category_to_id_map"
   ]
  },
  {
   "cell_type": "code",
   "execution_count": 20,
   "metadata": {},
   "outputs": [
    {
     "name": "stdout",
     "output_type": "stream",
     "text": [
      "loading annotations into memory...\n",
      "Done (t=1.15s)\n",
      "creating index...\n",
      "index created!\n",
      "loading annotations into memory...\n",
      "Done (t=0.99s)\n",
      "creating index...\n",
      "index created!\n"
     ]
    },
    {
     "data": {
      "text/plain": [
       "{'person': 1,\n",
       " 'bicycle': 2,\n",
       " 'car': 3,\n",
       " 'motorcycle': 4,\n",
       " 'airplane': 5,\n",
       " 'bus': 6,\n",
       " 'train': 7,\n",
       " 'truck': 8,\n",
       " 'boat': 9,\n",
       " 'traffic light': 10,\n",
       " 'fire hydrant': 11,\n",
       " 'stop sign': 13,\n",
       " 'parking meter': 14,\n",
       " 'bench': 15,\n",
       " 'bird': 16,\n",
       " 'cat': 17,\n",
       " 'dog': 18,\n",
       " 'horse': 19,\n",
       " 'sheep': 20,\n",
       " 'cow': 21,\n",
       " 'elephant': 22,\n",
       " 'bear': 23,\n",
       " 'zebra': 24,\n",
       " 'giraffe': 25,\n",
       " 'backpack': 27,\n",
       " 'umbrella': 28,\n",
       " 'handbag': 31,\n",
       " 'tie': 32,\n",
       " 'suitcase': 33,\n",
       " 'frisbee': 34,\n",
       " 'skis': 35,\n",
       " 'snowboard': 36,\n",
       " 'sports ball': 37,\n",
       " 'kite': 38,\n",
       " 'baseball bat': 39,\n",
       " 'baseball glove': 40,\n",
       " 'skateboard': 41,\n",
       " 'surfboard': 42,\n",
       " 'tennis racket': 43,\n",
       " 'bottle': 44,\n",
       " 'wine glass': 46,\n",
       " 'cup': 47,\n",
       " 'fork': 48,\n",
       " 'knife': 49,\n",
       " 'spoon': 50,\n",
       " 'bowl': 51,\n",
       " 'banana': 52,\n",
       " 'apple': 53,\n",
       " 'sandwich': 54,\n",
       " 'orange': 55,\n",
       " 'broccoli': 56,\n",
       " 'carrot': 57,\n",
       " 'hot dog': 58,\n",
       " 'pizza': 59,\n",
       " 'donut': 60,\n",
       " 'cake': 61,\n",
       " 'chair': 62,\n",
       " 'couch': 63,\n",
       " 'potted plant': 64,\n",
       " 'bed': 65,\n",
       " 'dining table': 67,\n",
       " 'toilet': 70,\n",
       " 'tv': 72,\n",
       " 'laptop': 73,\n",
       " 'mouse': 74,\n",
       " 'remote': 75,\n",
       " 'keyboard': 76,\n",
       " 'cell phone': 77,\n",
       " 'microwave': 78,\n",
       " 'oven': 79,\n",
       " 'toaster': 80,\n",
       " 'sink': 81,\n",
       " 'refrigerator': 82,\n",
       " 'book': 84,\n",
       " 'clock': 85,\n",
       " 'vase': 86,\n",
       " 'scissors': 87,\n",
       " 'teddy bear': 88,\n",
       " 'hair drier': 89,\n",
       " 'toothbrush': 90}"
      ]
     },
     "execution_count": 20,
     "metadata": {},
     "output_type": "execute_result"
    }
   ],
   "source": [
    "coco_val = COCO(\"data/coco/annotations/instances_val2017.json\")\n",
    "ds = JsonDataset(\"coco_2017_val\", 0)\n",
    "ds.category_to_id_map"
   ]
  },
  {
   "cell_type": "code",
   "execution_count": null,
   "metadata": {},
   "outputs": [],
   "source": []
  }
 ],
 "metadata": {
  "kernelspec": {
   "display_name": "Python 3",
   "language": "python",
   "name": "python3"
  },
  "language_info": {
   "codemirror_mode": {
    "name": "ipython",
    "version": 3
   },
   "file_extension": ".py",
   "mimetype": "text/x-python",
   "name": "python",
   "nbconvert_exporter": "python",
   "pygments_lexer": "ipython3",
   "version": "3.6.8"
  }
 },
 "nbformat": 4,
 "nbformat_minor": 2
}
