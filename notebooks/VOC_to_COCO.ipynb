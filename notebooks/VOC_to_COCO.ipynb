{
 "cells": [
  {
   "cell_type": "code",
   "execution_count": 16,
   "metadata": {},
   "outputs": [],
   "source": [
    "import pycocotools as cocotls\n",
    "import json\n",
    "\n",
    "COCO_PATH = \"../data/coco/annotations/instances_val2017.json\"\n",
    "VOC_PATH = \"../data/voc/VOCdevkit/VOC2012/annotations_coco_style/pascal_train2012.json\""
   ]
  },
  {
   "cell_type": "code",
   "execution_count": 17,
   "metadata": {},
   "outputs": [],
   "source": [
    "def read_file(path):\n",
    "    with open(path, \"r\") as f:\n",
    "        tmp = json.load(f)\n",
    "    return tmp\n",
    "def write_to_file(path, info):\n",
    "    with open(path, \"w\") as f:\n",
    "        json.dump(info, f)"
   ]
  },
  {
   "cell_type": "code",
   "execution_count": 18,
   "metadata": {},
   "outputs": [],
   "source": [
    "coco_ann = read_file(COCO_PATH)\n",
    "voc_ann = read_file(VOC_PATH)\n",
    "coco_categories = [catergory_info['name'] for catergory_info in coco_ann['categories']]\n",
    "voc_categories = [catergory_info['name'] for catergory_info in voc_ann['categories']]"
   ]
  },
  {
   "cell_type": "code",
   "execution_count": 19,
   "metadata": {},
   "outputs": [
    {
     "data": {
      "text/plain": [
       "{'aeroplane', 'diningtable', 'motorbike', 'pottedplant', 'sofa', 'tvmonitor'}"
      ]
     },
     "execution_count": 19,
     "metadata": {},
     "output_type": "execute_result"
    }
   ],
   "source": [
    "set(voc_categories) - set(coco_categories)"
   ]
  },
  {
   "cell_type": "code",
   "execution_count": 20,
   "metadata": {},
   "outputs": [],
   "source": [
    "change = {}\n",
    "change[\"aeroplane\"] = 'airplane'\n",
    "change[\"diningtable\"]  = 'dining table'\n",
    "change[\"motorbike\"] = 'motorcycle'\n",
    "change[\"pottedplant\"] = 'potted plant'\n",
    "change[\"sofa\"] = 'couch'\n",
    "change[\"tvmonitor\"] = 'tv'"
   ]
  },
  {
   "cell_type": "code",
   "execution_count": 21,
   "metadata": {},
   "outputs": [],
   "source": [
    "voc_categories = voc_ann[\"categories\"]\n",
    "for category in voc_categories:\n",
    "    if category[\"name\"] in change.keys():\n",
    "        category[\"name\"] = change[category[\"name\"]]"
   ]
  },
  {
   "cell_type": "code",
   "execution_count": 22,
   "metadata": {},
   "outputs": [],
   "source": [
    "write_to_file(VOC_PATH, voc_ann)"
   ]
  },
  {
   "cell_type": "code",
   "execution_count": null,
   "metadata": {},
   "outputs": [],
   "source": []
  }
 ],
 "metadata": {
  "kernelspec": {
   "display_name": "Python 3",
   "language": "python",
   "name": "python3"
  },
  "language_info": {
   "codemirror_mode": {
    "name": "ipython",
    "version": 3
   },
   "file_extension": ".py",
   "mimetype": "text/x-python",
   "name": "python",
   "nbconvert_exporter": "python",
   "pygments_lexer": "ipython3",
   "version": "3.6.8"
  }
 },
 "nbformat": 4,
 "nbformat_minor": 2
}
